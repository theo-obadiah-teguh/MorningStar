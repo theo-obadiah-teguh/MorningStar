{
 "cells": [
  {
   "cell_type": "markdown",
   "id": "1f062f29-50a1-405b-9531-7d9a45d00ae0",
   "metadata": {
    "tags": []
   },
   "source": [
    "# Import Sample Data\n",
    "This script is used to import the data given by Yaoyuan to the main Morningstar SQL database for storage and organization purposes."
   ]
  },
  {
   "cell_type": "code",
   "execution_count": 1,
   "id": "0e539beb-c0f8-471c-ba37-10f4e921935a",
   "metadata": {
    "tags": []
   },
   "outputs": [],
   "source": [
    "import pandas as pd"
   ]
  },
  {
   "cell_type": "code",
   "execution_count": 2,
   "id": "8bd42aff-ddd5-4a78-948c-d087bc71d88c",
   "metadata": {
    "tags": []
   },
   "outputs": [],
   "source": [
    "yy_data_path = '/Users/theoobadiahteguh/Desktop/Morningstar/Comparison/Morningstar_holding.dta'\n",
    "yy_data = pd.read_stata(yy_data_path, chunksize = 100000)"
   ]
  },
  {
   "cell_type": "code",
   "execution_count": 3,
   "id": "a1b49da6-97bf-4f1f-942d-0c738792fc1d",
   "metadata": {
    "tags": []
   },
   "outputs": [],
   "source": [
    "import sqlalchemy\n",
    "from sqlalchemy import create_engine\n",
    "\n",
    "connection_string = '...'\n",
    "engine = create_engine(connection_string)"
   ]
  },
  {
   "cell_type": "code",
   "execution_count": null,
   "id": "670d427e-4e9d-456c-a204-3e88037423a4",
   "metadata": {
    "tags": []
   },
   "outputs": [
    {
     "name": "stdout",
     "output_type": "stream",
     "text": [
      "Chunks Uploaded = 136\r"
     ]
    }
   ],
   "source": [
    "chunks_uploaded = 0\n",
    "\n",
    "for chunk in yy_data :\n",
    "    chunk.to_sql('ComparisonData', engine, if_exists = 'replace', index = False) # method = 'multi' would speed up the process if RAM capacity was larger\n",
    "    chunks_uploaded += 1\n",
    "    print(f\"Chunks Uploaded = {chunks_uploaded}\", end = \"\\r\", flush = True)\n",
    "\n",
    "print(\"\\nSQL Upload Complete\")"
   ]
  }
 ],
 "metadata": {
  "kernelspec": {
   "display_name": "Python 3 (ipykernel)",
   "language": "python",
   "name": "python3"
  },
  "language_info": {
   "codemirror_mode": {
    "name": "ipython",
    "version": 3
   },
   "file_extension": ".py",
   "mimetype": "text/x-python",
   "name": "python",
   "nbconvert_exporter": "python",
   "pygments_lexer": "ipython3",
   "version": "3.9.6"
  }
 },
 "nbformat": 4,
 "nbformat_minor": 5
}
